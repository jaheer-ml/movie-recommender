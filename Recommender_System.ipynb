{
  "cells": [
    {
      "cell_type": "code",
      "execution_count": null,
      "metadata": {
        "id": "2BUVQUcF8t25"
      },
      "outputs": [],
      "source": [
        "import numpy as np\n",
        "import pandas as pd"
      ]
    },
    {
      "cell_type": "code",
      "execution_count": null,
      "metadata": {
        "id": "edMEUv929k4q"
      },
      "outputs": [],
      "source": [
        "movies=pd.read_csv('/content/my csv/tmdb_5000_movies.csv')\n",
        "credit=pd.read_csv('/content/my csv/tmdb_5000_credits.csv', engine='python')"
      ]
    },
    {
      "cell_type": "code",
      "execution_count": null,
      "metadata": {
        "id": "lPqHNr_Y-J_u"
      },
      "outputs": [],
      "source": [
        "credit.head(1)"
      ]
    },
    {
      "cell_type": "code",
      "execution_count": null,
      "metadata": {
        "id": "3EdKEUpE-qHs"
      },
      "outputs": [],
      "source": [
        "movies=movies.merge(credit,on='title')"
      ]
    },
    {
      "cell_type": "code",
      "execution_count": null,
      "metadata": {
        "id": "q5ULVS7g-4Nz"
      },
      "outputs": [],
      "source": [
        "movies.head(1)"
      ]
    },
    {
      "cell_type": "code",
      "execution_count": null,
      "metadata": {
        "id": "0xbgoRM8_6yZ"
      },
      "outputs": [],
      "source": [
        "movie=movies[['id','title','overview','genres','keywords','cast','crew']]"
      ]
    },
    {
      "cell_type": "code",
      "execution_count": null,
      "metadata": {
        "id": "ay6qAmg_QSOm"
      },
      "outputs": [],
      "source": [
        "movie.head(1)"
      ]
    },
    {
      "cell_type": "code",
      "execution_count": null,
      "metadata": {
        "id": "aFea0rWJQkl2"
      },
      "outputs": [],
      "source": [
        "movie.isnull().sum()"
      ]
    },
    {
      "cell_type": "code",
      "execution_count": null,
      "metadata": {
        "id": "5PP16NW3QrFO"
      },
      "outputs": [],
      "source": [
        "movie.dropna(inplace=True)"
      ]
    },
    {
      "cell_type": "code",
      "execution_count": null,
      "metadata": {
        "id": "Iqc01c6wQws0"
      },
      "outputs": [],
      "source": [
        "movie.isnull().sum()"
      ]
    },
    {
      "cell_type": "code",
      "execution_count": null,
      "metadata": {
        "id": "GLqek93cQ0rQ"
      },
      "outputs": [],
      "source": [
        "movie.shape"
      ]
    },
    {
      "cell_type": "code",
      "execution_count": null,
      "metadata": {
        "id": "5zPSpzc-Q3Zz"
      },
      "outputs": [],
      "source": [
        "movie.duplicated().sum()"
      ]
    },
    {
      "cell_type": "code",
      "execution_count": null,
      "metadata": {
        "id": "lQLR6rW6Rqwm"
      },
      "outputs": [],
      "source": [
        "movie.iloc[0].genres"
      ]
    },
    {
      "cell_type": "code",
      "execution_count": null,
      "metadata": {
        "id": "6jIDQUn9SlhA"
      },
      "outputs": [],
      "source": [
        "import ast"
      ]
    },
    {
      "cell_type": "code",
      "execution_count": null,
      "metadata": {
        "id": "LCzzhuyBRzYt"
      },
      "outputs": [],
      "source": [
        "def convert(obj):\n",
        "  l=[]\n",
        "  counter=0\n",
        "  for i in ast.literal_eval(obj):\n",
        "    if counter!=3:\n",
        "      l.append(i['name'])\n",
        "      counter+=1\n",
        "    else:\n",
        "      break\n",
        "  return l"
      ]
    },
    {
      "cell_type": "code",
      "execution_count": null,
      "metadata": {
        "id": "rkNg88xeZDkf"
      },
      "outputs": [],
      "source": [
        "def fetch_director(obj):\n",
        "  l=[]\n",
        "  for i in ast.literal_eval(obj):\n",
        "    if i['job']=='Director':\n",
        "      l.append(i['name'])\n",
        "      break\n",
        "  return l"
      ]
    },
    {
      "cell_type": "code",
      "execution_count": null,
      "metadata": {
        "id": "MGxnQSOAW4wD"
      },
      "outputs": [],
      "source": [
        "movie['genres']=movie['genres'].apply(convert)"
      ]
    },
    {
      "cell_type": "code",
      "execution_count": null,
      "metadata": {
        "id": "oYWNdbxDXlGv"
      },
      "outputs": [],
      "source": [
        "movie['keywords']=movie['keywords'].apply(convert)"
      ]
    },
    {
      "cell_type": "code",
      "execution_count": null,
      "metadata": {
        "id": "qHuvrvnvXptM"
      },
      "outputs": [],
      "source": [
        "movie['cast']=movie['cast'].apply(convert)"
      ]
    },
    {
      "cell_type": "code",
      "execution_count": null,
      "metadata": {
        "id": "yDUFUvJgXvZ5"
      },
      "outputs": [],
      "source": [
        "movie['crew']=movie['crew'].apply(fetch_director)"
      ]
    },
    {
      "cell_type": "code",
      "execution_count": null,
      "metadata": {
        "id": "7sLwIqa1XOae"
      },
      "outputs": [],
      "source": [
        "movie.head(5)"
      ]
    },
    {
      "cell_type": "code",
      "execution_count": null,
      "metadata": {
        "id": "63phoCZiXZxR"
      },
      "outputs": [],
      "source": [
        "def overview(obj):\n",
        "  l=[]\n",
        "  l.append(obj)\n",
        "  return l"
      ]
    },
    {
      "cell_type": "code",
      "execution_count": null,
      "metadata": {
        "id": "AvH-dTbkaE7m"
      },
      "outputs": [],
      "source": [
        "movie['overview']=movie['overview'].apply(overview)"
      ]
    },
    {
      "cell_type": "code",
      "execution_count": null,
      "metadata": {
        "id": "-3zCRLRYaW_B"
      },
      "outputs": [],
      "source": [
        "movie.head()"
      ]
    },
    {
      "cell_type": "code",
      "execution_count": null,
      "metadata": {
        "id": "MS1BTMowa23Z"
      },
      "outputs": [],
      "source": [
        "movie['genres']=movie['genres'].apply(lambda x:[i.replace(\" \",\"\")for i in x])\n",
        "movie['keywords']=movie['keywords'].apply(lambda x:[i.replace(\" \",\"\")for i in x])\n",
        "movie['cast']=movie['cast'].apply(lambda x:[i.replace(\" \",\"\")for i in x])\n",
        "movie['crew']=movie['crew'].apply(lambda x:[i.replace(\" \",\"\")for i in x])"
      ]
    },
    {
      "cell_type": "code",
      "execution_count": null,
      "metadata": {
        "id": "uMWky5QGbSGm"
      },
      "outputs": [],
      "source": [
        "movie.head(1)"
      ]
    },
    {
      "cell_type": "code",
      "execution_count": null,
      "metadata": {
        "id": "ZKbKpSBabLEI"
      },
      "outputs": [],
      "source": [
        "movie['tags']=movie['overview']+movie['genres']+movie['keywords']+movie['cast']+movie[\"crew\"]"
      ]
    },
    {
      "cell_type": "code",
      "execution_count": null,
      "metadata": {
        "id": "qhxrhYCDb4U9"
      },
      "outputs": [],
      "source": [
        "movie.head(1)"
      ]
    },
    {
      "cell_type": "code",
      "execution_count": null,
      "metadata": {
        "id": "tFSYreqHcGFe"
      },
      "outputs": [],
      "source": [
        "new_df=movie[['id','title','tags']]"
      ]
    },
    {
      "cell_type": "code",
      "execution_count": null,
      "metadata": {
        "id": "SCrHlBYocRtO"
      },
      "outputs": [],
      "source": [
        "new_df['tags']=new_df['tags'].apply(lambda x:\" \".join(x))"
      ]
    },
    {
      "cell_type": "code",
      "execution_count": null,
      "metadata": {
        "id": "UbqgWQi-bLYn"
      },
      "outputs": [],
      "source": [
        "new_df.head(1)"
      ]
    },
    {
      "cell_type": "code",
      "source": [
        "import nltk\n",
        "ps=nltk.stem.porter.PorterStemmer()"
      ],
      "metadata": {
        "id": "oRj9-1PP66p9"
      },
      "execution_count": null,
      "outputs": []
    },
    {
      "cell_type": "code",
      "source": [
        "def stem(text):\n",
        "  y=[]\n",
        "  for  i in text.split():\n",
        "    y.append(ps.stem(i))\n",
        "  return \" \".join(y)"
      ],
      "metadata": {
        "id": "iXI-E8-d7LV5"
      },
      "execution_count": null,
      "outputs": []
    },
    {
      "cell_type": "code",
      "source": [
        "new_df['tags']=new_df['tags'].apply(stem)"
      ],
      "metadata": {
        "id": "C0-7ICUl7iI4",
        "collapsed": true
      },
      "execution_count": null,
      "outputs": []
    },
    {
      "cell_type": "code",
      "source": [
        "from sklearn.feature_extraction.text import CountVectorizer\n",
        "cv = CountVectorizer(max_features=5000,stop_words='english')"
      ],
      "metadata": {
        "id": "DxjulfHR5rp-"
      },
      "execution_count": null,
      "outputs": []
    },
    {
      "cell_type": "code",
      "source": [
        "vectors=cv.fit_transform(new_df['tags']).toarray()"
      ],
      "metadata": {
        "id": "iiNUemgd5_F9"
      },
      "execution_count": null,
      "outputs": []
    },
    {
      "cell_type": "code",
      "source": [
        "vectors.shape"
      ],
      "metadata": {
        "id": "CbKN3Iz76N76"
      },
      "execution_count": null,
      "outputs": []
    },
    {
      "cell_type": "code",
      "source": [
        "cv.get_feature_names_out()"
      ],
      "metadata": {
        "id": "jaQ7Uezi71_F"
      },
      "execution_count": null,
      "outputs": []
    },
    {
      "cell_type": "code",
      "source": [
        "from sklearn.metrics.pairwise import cosine_similarity\n",
        "similarity = cosine_similarity(vectors)"
      ],
      "metadata": {
        "id": "1BIadzHP8726"
      },
      "execution_count": null,
      "outputs": []
    },
    {
      "cell_type": "code",
      "source": [
        "similarity[1]"
      ],
      "metadata": {
        "id": "vWWOvPCc9QEL"
      },
      "execution_count": null,
      "outputs": []
    },
    {
      "cell_type": "code",
      "source": [
        "def recommend(movie):\n",
        "  movie_index =new_df[new_df['title']== movie].index[0]\n",
        "  distances= similarity[movie_index]\n",
        "  movies_list=sorted(list(enumerate(distances)),reverse=True,key=lambda x:x[1])[1:6]\n",
        "\n",
        "  for i in movies_list:\n",
        "    print(new_df.iloc[i[0]].title)\n"
      ],
      "metadata": {
        "id": "FEh9Xfzz-0DP"
      },
      "execution_count": null,
      "outputs": []
    },
    {
      "cell_type": "code",
      "source": [
        "recommend(\"Batman\")"
      ],
      "metadata": {
        "id": "L4Wy0IVtAXDk"
      },
      "execution_count": null,
      "outputs": []
    },
    {
      "cell_type": "code",
      "source": [
        "import pickle"
      ],
      "metadata": {
        "id": "7R9CrVOW2h21"
      },
      "execution_count": null,
      "outputs": []
    },
    {
      "cell_type": "code",
      "source": [
        "pickle.dump(new_df.to_dict(),open('movies_dict.pkl','wb'))"
      ],
      "metadata": {
        "id": "i8Zpv7Co4B3-"
      },
      "execution_count": null,
      "outputs": []
    },
    {
      "cell_type": "code",
      "source": [
        "pickle.dump(similarity,open('similarity.pkl','wb'))"
      ],
      "metadata": {
        "id": "JKENFGmz8-U8"
      },
      "execution_count": null,
      "outputs": []
    }
  ],
  "metadata": {
    "colab": {
      "provenance": [],
      "authorship_tag": "ABX9TyN2suCL8KMz2/0r3hAK4bpI"
    },
    "kernelspec": {
      "display_name": "Python 3",
      "name": "python3"
    },
    "language_info": {
      "name": "python"
    }
  },
  "nbformat": 4,
  "nbformat_minor": 0
}